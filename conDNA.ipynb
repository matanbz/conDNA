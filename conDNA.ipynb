{
 "cells": [
  {
   "cell_type": "markdown",
   "metadata": {
    "collapsed": false
   },
   "source": [
    "#### cd /stuff/Dropbox/DNA/designs/W40\n",
    "\n",
    "Matan 2017 08 04\n",
    "\n",
    "Based on Corinna's code\n",
    "\n",
    "The following merely adds W40 from Goulong to the sequences in the dictionary\n",
    "\n",
    "GAG TTC ACA AGA GTT CAC AA\n",
    "\n",
    "\n",
    "This will attached on the horizontal SE of the origami belt.\n"
   ]
  },
  {
   "cell_type": "code",
   "execution_count": 1,
   "metadata": {
    "collapsed": false
   },
   "outputs": [],
   "source": [
    "from time import time\n",
    "import random\n",
    "import DNA as DNATemp\n",
    "import DNAstruct as DNA\n",
    "import numpy as np\n",
    "import pandas as pd\n",
    "from datetime import date"
   ]
  },
  {
   "cell_type": "markdown",
   "metadata": {},
   "source": [
    "##  Load Exisiting SE Dictionary"
   ]
  },
  {
   "cell_type": "code",
   "execution_count": 3,
   "metadata": {
    "collapsed": false
   },
   "outputs": [
    {
     "data": {
      "text/html": [
       "<div>\n",
       "<table border=\"1\" class=\"dataframe\">\n",
       "  <thead>\n",
       "    <tr style=\"text-align: right;\">\n",
       "      <th></th>\n",
       "      <th>Label</th>\n",
       "      <th>Sequence</th>\n",
       "      <th>SE-Length</th>\n",
       "    </tr>\n",
       "  </thead>\n",
       "  <tbody>\n",
       "    <tr>\n",
       "      <th>0</th>\n",
       "      <td>A8</td>\n",
       "      <td>GTAGATTG</td>\n",
       "      <td>8</td>\n",
       "    </tr>\n",
       "    <tr>\n",
       "      <th>1</th>\n",
       "      <td>Ap8</td>\n",
       "      <td>CAATCTAC</td>\n",
       "      <td>8</td>\n",
       "    </tr>\n",
       "    <tr>\n",
       "      <th>2</th>\n",
       "      <td>B8</td>\n",
       "      <td>GTTATGAG</td>\n",
       "      <td>8</td>\n",
       "    </tr>\n",
       "    <tr>\n",
       "      <th>3</th>\n",
       "      <td>Bp8</td>\n",
       "      <td>CTCATAAC</td>\n",
       "      <td>8</td>\n",
       "    </tr>\n",
       "    <tr>\n",
       "      <th>4</th>\n",
       "      <td>C8</td>\n",
       "      <td>GTATTGAG</td>\n",
       "      <td>8</td>\n",
       "    </tr>\n",
       "    <tr>\n",
       "      <th>5</th>\n",
       "      <td>Cp8</td>\n",
       "      <td>CTCAATAC</td>\n",
       "      <td>8</td>\n",
       "    </tr>\n",
       "    <tr>\n",
       "      <th>6</th>\n",
       "      <td>D8</td>\n",
       "      <td>ACCATCAT</td>\n",
       "      <td>8</td>\n",
       "    </tr>\n",
       "    <tr>\n",
       "      <th>7</th>\n",
       "      <td>DE18</td>\n",
       "      <td>ACCATCATCGCCGTGTAA</td>\n",
       "      <td>18</td>\n",
       "    </tr>\n",
       "    <tr>\n",
       "      <th>8</th>\n",
       "      <td>DEp18</td>\n",
       "      <td>TTACACGGCGATGATGGT</td>\n",
       "      <td>18</td>\n",
       "    </tr>\n",
       "    <tr>\n",
       "      <th>9</th>\n",
       "      <td>Dp8</td>\n",
       "      <td>ATGATGGT</td>\n",
       "      <td>8</td>\n",
       "    </tr>\n",
       "    <tr>\n",
       "      <th>10</th>\n",
       "      <td>F11</td>\n",
       "      <td>GATGGATTAGG</td>\n",
       "      <td>11</td>\n",
       "    </tr>\n",
       "    <tr>\n",
       "      <th>11</th>\n",
       "      <td>G11</td>\n",
       "      <td>CCTAATCCATC</td>\n",
       "      <td>11</td>\n",
       "    </tr>\n",
       "    <tr>\n",
       "      <th>12</th>\n",
       "      <td>J11</td>\n",
       "      <td>GTTGTTCATCT</td>\n",
       "      <td>11</td>\n",
       "    </tr>\n",
       "    <tr>\n",
       "      <th>13</th>\n",
       "      <td>Jp11</td>\n",
       "      <td>AGATGAACAAC</td>\n",
       "      <td>11</td>\n",
       "    </tr>\n",
       "    <tr>\n",
       "      <th>14</th>\n",
       "      <td>K11</td>\n",
       "      <td>CATCACTCTAA</td>\n",
       "      <td>11</td>\n",
       "    </tr>\n",
       "    <tr>\n",
       "      <th>15</th>\n",
       "      <td>Kp11</td>\n",
       "      <td>TTAGAGTGATG</td>\n",
       "      <td>11</td>\n",
       "    </tr>\n",
       "    <tr>\n",
       "      <th>16</th>\n",
       "      <td>L20</td>\n",
       "      <td>GAGTTCACAAGAGTTCACAA</td>\n",
       "      <td>20</td>\n",
       "    </tr>\n",
       "    <tr>\n",
       "      <th>17</th>\n",
       "      <td>Lp20</td>\n",
       "      <td>TTGTGAACTCTTGTGAACTC</td>\n",
       "      <td>20</td>\n",
       "    </tr>\n",
       "    <tr>\n",
       "      <th>18</th>\n",
       "      <td>P11</td>\n",
       "      <td>GTATTCGAGTT</td>\n",
       "      <td>11</td>\n",
       "    </tr>\n",
       "    <tr>\n",
       "      <th>19</th>\n",
       "      <td>Q11</td>\n",
       "      <td>AACTCGAATAC</td>\n",
       "      <td>11</td>\n",
       "    </tr>\n",
       "  </tbody>\n",
       "</table>\n",
       "</div>"
      ],
      "text/plain": [
       "    Label              Sequence  SE-Length\n",
       "0      A8              GTAGATTG          8\n",
       "1     Ap8              CAATCTAC          8\n",
       "2      B8              GTTATGAG          8\n",
       "3     Bp8              CTCATAAC          8\n",
       "4      C8              GTATTGAG          8\n",
       "5     Cp8              CTCAATAC          8\n",
       "6      D8              ACCATCAT          8\n",
       "7    DE18    ACCATCATCGCCGTGTAA         18\n",
       "8   DEp18    TTACACGGCGATGATGGT         18\n",
       "9     Dp8              ATGATGGT          8\n",
       "10    F11           GATGGATTAGG         11\n",
       "11    G11           CCTAATCCATC         11\n",
       "12    J11           GTTGTTCATCT         11\n",
       "13   Jp11           AGATGAACAAC         11\n",
       "14    K11           CATCACTCTAA         11\n",
       "15   Kp11           TTAGAGTGATG         11\n",
       "16    L20  GAGTTCACAAGAGTTCACAA         20\n",
       "17   Lp20  TTGTGAACTCTTGTGAACTC         20\n",
       "18    P11           GTATTCGAGTT         11\n",
       "19    Q11           AACTCGAATAC         11"
      ]
     },
     "execution_count": 3,
     "metadata": {},
     "output_type": "execute_result"
    }
   ],
   "source": [
    "dictionaryFilename = 'DNAdic.csv'\n",
    "pdDict = pd.read_csv(dictionaryFilename,usecols=['Label','Sequence','SE-Length'])#,index=False)\n",
    "sequences = pdDict.Sequence.values\n",
    "#DNATemp.TMelt(pdDict[pdDict.Label=='P11'].Sequence.values[0])\n",
    "pdDict"
   ]
  },
  {
   "cell_type": "markdown",
   "metadata": {},
   "source": [
    "## Add chosen seqeunces to dictionary file (see below)"
   ]
  },
  {
   "cell_type": "code",
   "execution_count": 4,
   "metadata": {
    "collapsed": false
   },
   "outputs": [
    {
     "name": "stderr",
     "output_type": "stream",
     "text": [
      "/home/matan/anaconda2/lib/python2.7/site-packages/ipykernel/__main__.py:10: FutureWarning: sort(columns=....) is deprecated, use sort_values(by=.....)\n"
     ]
    },
    {
     "data": {
      "text/html": [
       "<div>\n",
       "<table border=\"1\" class=\"dataframe\">\n",
       "  <thead>\n",
       "    <tr style=\"text-align: right;\">\n",
       "      <th></th>\n",
       "      <th>Label</th>\n",
       "      <th>Sequence</th>\n",
       "      <th>SE-Length</th>\n",
       "    </tr>\n",
       "  </thead>\n",
       "  <tbody>\n",
       "    <tr>\n",
       "      <th>0</th>\n",
       "      <td>A8</td>\n",
       "      <td>GTAGATTG</td>\n",
       "      <td>8</td>\n",
       "    </tr>\n",
       "    <tr>\n",
       "      <th>1</th>\n",
       "      <td>Ap8</td>\n",
       "      <td>CAATCTAC</td>\n",
       "      <td>8</td>\n",
       "    </tr>\n",
       "    <tr>\n",
       "      <th>2</th>\n",
       "      <td>B8</td>\n",
       "      <td>GTTATGAG</td>\n",
       "      <td>8</td>\n",
       "    </tr>\n",
       "    <tr>\n",
       "      <th>3</th>\n",
       "      <td>Bp8</td>\n",
       "      <td>CTCATAAC</td>\n",
       "      <td>8</td>\n",
       "    </tr>\n",
       "    <tr>\n",
       "      <th>4</th>\n",
       "      <td>C8</td>\n",
       "      <td>GTATTGAG</td>\n",
       "      <td>8</td>\n",
       "    </tr>\n",
       "    <tr>\n",
       "      <th>5</th>\n",
       "      <td>Cp8</td>\n",
       "      <td>CTCAATAC</td>\n",
       "      <td>8</td>\n",
       "    </tr>\n",
       "    <tr>\n",
       "      <th>6</th>\n",
       "      <td>D8</td>\n",
       "      <td>ACCATCAT</td>\n",
       "      <td>8</td>\n",
       "    </tr>\n",
       "    <tr>\n",
       "      <th>7</th>\n",
       "      <td>DE18</td>\n",
       "      <td>ACCATCATCGCCGTGTAA</td>\n",
       "      <td>18</td>\n",
       "    </tr>\n",
       "    <tr>\n",
       "      <th>8</th>\n",
       "      <td>DEp18</td>\n",
       "      <td>TTACACGGCGATGATGGT</td>\n",
       "      <td>18</td>\n",
       "    </tr>\n",
       "    <tr>\n",
       "      <th>9</th>\n",
       "      <td>Dp8</td>\n",
       "      <td>ATGATGGT</td>\n",
       "      <td>8</td>\n",
       "    </tr>\n",
       "    <tr>\n",
       "      <th>10</th>\n",
       "      <td>F11</td>\n",
       "      <td>GATGGATTAGG</td>\n",
       "      <td>11</td>\n",
       "    </tr>\n",
       "    <tr>\n",
       "      <th>11</th>\n",
       "      <td>G11</td>\n",
       "      <td>CCTAATCCATC</td>\n",
       "      <td>11</td>\n",
       "    </tr>\n",
       "    <tr>\n",
       "      <th>12</th>\n",
       "      <td>J11</td>\n",
       "      <td>GTTGTTCATCT</td>\n",
       "      <td>11</td>\n",
       "    </tr>\n",
       "    <tr>\n",
       "      <th>13</th>\n",
       "      <td>Jp11</td>\n",
       "      <td>AGATGAACAAC</td>\n",
       "      <td>11</td>\n",
       "    </tr>\n",
       "    <tr>\n",
       "      <th>14</th>\n",
       "      <td>K11</td>\n",
       "      <td>CATCACTCTAA</td>\n",
       "      <td>11</td>\n",
       "    </tr>\n",
       "    <tr>\n",
       "      <th>15</th>\n",
       "      <td>Kp11</td>\n",
       "      <td>TTAGAGTGATG</td>\n",
       "      <td>11</td>\n",
       "    </tr>\n",
       "    <tr>\n",
       "      <th>16</th>\n",
       "      <td>L20</td>\n",
       "      <td>GAGTTCACAAGAGTTCACAA</td>\n",
       "      <td>20</td>\n",
       "    </tr>\n",
       "    <tr>\n",
       "      <th>20</th>\n",
       "      <td>L20</td>\n",
       "      <td>GAGTTCACAAGAGTTCACAA</td>\n",
       "      <td>20</td>\n",
       "    </tr>\n",
       "    <tr>\n",
       "      <th>17</th>\n",
       "      <td>Lp20</td>\n",
       "      <td>TTGTGAACTCTTGTGAACTC</td>\n",
       "      <td>20</td>\n",
       "    </tr>\n",
       "    <tr>\n",
       "      <th>21</th>\n",
       "      <td>Lp20</td>\n",
       "      <td>TTGTGAACTCTTGTGAACTC</td>\n",
       "      <td>20</td>\n",
       "    </tr>\n",
       "    <tr>\n",
       "      <th>18</th>\n",
       "      <td>P11</td>\n",
       "      <td>GTATTCGAGTT</td>\n",
       "      <td>11</td>\n",
       "    </tr>\n",
       "    <tr>\n",
       "      <th>19</th>\n",
       "      <td>Q11</td>\n",
       "      <td>AACTCGAATAC</td>\n",
       "      <td>11</td>\n",
       "    </tr>\n",
       "  </tbody>\n",
       "</table>\n",
       "</div>"
      ],
      "text/plain": [
       "    Label              Sequence  SE-Length\n",
       "0      A8              GTAGATTG          8\n",
       "1     Ap8              CAATCTAC          8\n",
       "2      B8              GTTATGAG          8\n",
       "3     Bp8              CTCATAAC          8\n",
       "4      C8              GTATTGAG          8\n",
       "5     Cp8              CTCAATAC          8\n",
       "6      D8              ACCATCAT          8\n",
       "7    DE18    ACCATCATCGCCGTGTAA         18\n",
       "8   DEp18    TTACACGGCGATGATGGT         18\n",
       "9     Dp8              ATGATGGT          8\n",
       "10    F11           GATGGATTAGG         11\n",
       "11    G11           CCTAATCCATC         11\n",
       "12    J11           GTTGTTCATCT         11\n",
       "13   Jp11           AGATGAACAAC         11\n",
       "14    K11           CATCACTCTAA         11\n",
       "15   Kp11           TTAGAGTGATG         11\n",
       "16    L20  GAGTTCACAAGAGTTCACAA         20\n",
       "20    L20  GAGTTCACAAGAGTTCACAA         20\n",
       "17   Lp20  TTGTGAACTCTTGTGAACTC         20\n",
       "21   Lp20  TTGTGAACTCTTGTGAACTC         20\n",
       "18    P11           GTATTCGAGTT         11\n",
       "19    Q11           AACTCGAATAC         11"
      ]
     },
     "execution_count": 4,
     "metadata": {},
     "output_type": "execute_result"
    }
   ],
   "source": [
    "L20 = 'GAGTTCACAAGAGTTCACAA'\n",
    "Lp20 = DNA.complement(L20,reverse=True)\n",
    "\n",
    "pdDictNew = pdDict.append([{'Label':'L20','Sequence':L20,'SE-Length':len(L20)},\\\n",
    "                           {'Label':'Lp20','Sequence':Lp20,'SE-Length':len(Lp20)}],\\\n",
    "                           ignore_index=True)\n",
    "\n",
    "\n",
    "\n",
    "dictionaryFileNameNew = 'SEdictionary' +date.today().strftime(\"%Y-%m-%d\")+'.csv'\n",
    "\n",
    "pdDictNew = pdDictNew.sort('Label')\n",
    "pdDictNew.to_csv(dictionaryFileNameNew)\n",
    "\n",
    "pdDictNew"
   ]
  },
  {
   "cell_type": "markdown",
   "metadata": {},
   "source": [
    "## Define Parameters for New Sequences"
   ]
  },
  {
   "cell_type": "code",
   "execution_count": 5,
   "metadata": {
    "collapsed": true
   },
   "outputs": [],
   "source": [
    "# This cell generate a lot of 8b sequences.\n",
    "#Eventually Two such strands will make a single strand displacment sequence 8b&8b\n",
    "#make a list with complements.\n",
    "NedWord = 3\n",
    "stickyLength = 40\n",
    "#toeHoldLength = 10\n",
    "cgSticky = (.3,.4)\n",
    "cgToeHold = (.5,.7)\n",
    "             \n",
    "\n",
    "#keep only those in temperature range of 20-23\n",
    "Tmin = 35\n",
    "Tmax = 40\n"
   ]
  },
  {
   "cell_type": "markdown",
   "metadata": {},
   "source": [
    "##  Start generating many sequences and gradually exclude them by predefined constrains"
   ]
  },
  {
   "cell_type": "code",
   "execution_count": null,
   "metadata": {
    "collapsed": false
   },
   "outputs": [],
   "source": [
    "Nseq=10000\n",
    "DNAlistSticky = [DNA.rand_seq(stickyLength,cgSticky) for i in range(Nseq)]\n",
    "\n",
    "\n",
    "random.shuffle(DNAlistSticky)\n",
    "\n",
    "DNAlist = DNAlistSticky\n",
    "n=10\n",
    "print  'First ',n,' of ', len(DNAlist)\n",
    "for i in range(10): print DNAlist[i]"
   ]
  },
  {
   "cell_type": "code",
   "execution_count": null,
   "metadata": {
    "collapsed": false
   },
   "outputs": [],
   "source": [
    "#Remove sequences with repeats (AAAs etc)\n",
    "DNAlist=[seq for seq in DNAlist if not DNA.reptest(seq,3)]\n",
    "N=10\n",
    "print  'First ',N,' of ', len(DNAlist), 'non 3 repeats'\n",
    "for i in range(10): print DNAlist[i]\n",
    "    "
   ]
  },
  {
   "cell_type": "code",
   "execution_count": null,
   "metadata": {
    "collapsed": false
   },
   "outputs": [],
   "source": [
    "## Remove Palindromic Sequences\n",
    "DNAlist=[seq for seq in DNAlist if DNA.palin_check(seq,4)<0]\n",
    "N=10\n",
    "print  'First ',N,' of ', len(DNAlist), 'Non Palindromic'\n",
    "for i in range(10): print DNAlist[i]"
   ]
  },
  {
   "cell_type": "code",
   "execution_count": 17,
   "metadata": {
    "collapsed": false
   },
   "outputs": [
    {
     "name": "stdout",
     "output_type": "stream",
     "text": [
      "First  10  of  46 Non GC Quadros\n",
      "CGCAATCGGTTCACCAGTTATTATCATTATTAAGTTCCAG\n",
      "TGAGTCTACACTTAGTTACGCTATTCAGAACACAGATGAT\n",
      "TGTCTAATAAGGCAATGTAAGGTGTAGCAAGTATAACCAC\n",
      "TGTGATTAGGTGATTAGGAAGTCATATCTATTGTAGGCAC\n",
      "GTACAATGCTTAGTTAGGTCTTATCTACGTGCAGAACATA\n",
      "ATAAGAATAACATACTAGGTACACGCATCGGTGATAATAT\n",
      "TAGACAAGGTAATATACTTCACAAGCGAACACCAATCATC\n",
      "AAGAATGAGCACCACCAATTAACGTAAGTTGATAACACAC\n",
      "ATGTAATGTTAGCAATACGAATGTTCTAGCTTCCAGCCAA\n",
      "TTCACTTAATATAACGGTCAATCTCCATTCGAGTACGCTT\n"
     ]
    }
   ],
   "source": [
    "## Remove Sticky with more than 4 GCs (no tetras)\n",
    "DNAlist=[seq for seq in DNAlist if DNA.noGCrep(seq[:stickyLength],4)]\n",
    "N=10\n",
    "print  'First ',N,' of ', len(DNAlist), 'Non GC Quadros'\n",
    "for i in range(10): print DNAlist[i]"
   ]
  },
  {
   "cell_type": "code",
   "execution_count": 22,
   "metadata": {
    "collapsed": false
   },
   "outputs": [
    {
     "ename": "IOError",
     "evalue": "[Errno 2] No such file or directory: 'melttemp0.txt'",
     "output_type": "error",
     "traceback": [
      "\u001b[0;31m---------------------------------------------------------------------------\u001b[0m",
      "\u001b[0;31mIOError\u001b[0m                                   Traceback (most recent call last)",
      "\u001b[0;32m<ipython-input-22-fc8d830ed353>\u001b[0m in \u001b[0;36m<module>\u001b[0;34m()\u001b[0m\n\u001b[1;32m      1\u001b[0m \u001b[0;34m\u001b[0m\u001b[0m\n\u001b[0;32m----> 2\u001b[0;31m \u001b[0mledict\u001b[0m \u001b[0;34m=\u001b[0m \u001b[0mDNATemp\u001b[0m\u001b[0;34m.\u001b[0m\u001b[0mTMeltSelect\u001b[0m\u001b[0;34m(\u001b[0m\u001b[0mDNAlist\u001b[0m\u001b[0;34m,\u001b[0m \u001b[0minterv\u001b[0m\u001b[0;34m=\u001b[0m\u001b[0;34m(\u001b[0m\u001b[0mTmin\u001b[0m\u001b[0;34m,\u001b[0m\u001b[0mTmax\u001b[0m\u001b[0;34m)\u001b[0m\u001b[0;34m)\u001b[0m\u001b[0;34m\u001b[0m\u001b[0m\n\u001b[0m\u001b[1;32m      3\u001b[0m \u001b[0;32mprint\u001b[0m \u001b[0;34m'There are '\u001b[0m\u001b[0;34m,\u001b[0m \u001b[0mlen\u001b[0m\u001b[0;34m(\u001b[0m\u001b[0mledict\u001b[0m\u001b[0;34m)\u001b[0m\u001b[0;34m,\u001b[0m \u001b[0;34m'strands melting in the range'\u001b[0m\u001b[0;34m,\u001b[0m \u001b[0mTmin\u001b[0m\u001b[0;34m,\u001b[0m\u001b[0;34m'-'\u001b[0m\u001b[0;34m,\u001b[0m\u001b[0mTmax\u001b[0m\u001b[0;34m,\u001b[0m\u001b[0;34m'C'\u001b[0m\u001b[0;34m\u001b[0m\u001b[0m\n\u001b[1;32m      4\u001b[0m \u001b[0;32mfor\u001b[0m \u001b[0mkey\u001b[0m \u001b[0;32min\u001b[0m \u001b[0mledict\u001b[0m\u001b[0;34m:\u001b[0m\u001b[0;32mprint\u001b[0m \u001b[0mkey\u001b[0m\u001b[0;34m,\u001b[0m \u001b[0mledict\u001b[0m\u001b[0;34m[\u001b[0m\u001b[0mkey\u001b[0m\u001b[0;34m]\u001b[0m\u001b[0;34m\u001b[0m\u001b[0m\n",
      "\u001b[0;32m/home/matan/Dropbox/DNA/designs/W40/DNA.pyc\u001b[0m in \u001b[0;36mTMeltSelect\u001b[0;34m(lst, interv, comp, mg, conc, meltdir, verbose, threads)\u001b[0m\n\u001b[1;32m    297\u001b[0m         \u001b[0;32melse\u001b[0m\u001b[0;34m:\u001b[0m\u001b[0mos\u001b[0m\u001b[0;34m.\u001b[0m\u001b[0msystem\u001b[0m\u001b[0;34m(\u001b[0m\u001b[0;34m';'\u001b[0m\u001b[0;34m.\u001b[0m\u001b[0mjoin\u001b[0m\u001b[0;34m(\u001b[0m\u001b[0;34m[\u001b[0m\u001b[0;34m\"melting -S'%s' -G%s -P%s -Hdnadna -Omelttemp%d.txt\"\u001b[0m\u001b[0;34m%\u001b[0m\u001b[0;34m(\u001b[0m\u001b[0mlst\u001b[0m\u001b[0;34m[\u001b[0m\u001b[0mthreads\u001b[0m\u001b[0;34m*\u001b[0m\u001b[0mi\u001b[0m\u001b[0;34m+\u001b[0m\u001b[0mj\u001b[0m\u001b[0;34m]\u001b[0m\u001b[0;34m,\u001b[0m\u001b[0mmg\u001b[0m\u001b[0;34m,\u001b[0m\u001b[0mconc\u001b[0m\u001b[0;34m,\u001b[0m \u001b[0mj\u001b[0m\u001b[0;34m)\u001b[0m \u001b[0;32mfor\u001b[0m \u001b[0mj\u001b[0m \u001b[0;32min\u001b[0m \u001b[0mrange\u001b[0m\u001b[0;34m(\u001b[0m\u001b[0mthreads\u001b[0m\u001b[0;34m)\u001b[0m\u001b[0;34m]\u001b[0m\u001b[0;34m)\u001b[0m\u001b[0;34m)\u001b[0m\u001b[0;34m\u001b[0m\u001b[0m\n\u001b[1;32m    298\u001b[0m         \u001b[0;32mfor\u001b[0m \u001b[0mj\u001b[0m \u001b[0;32min\u001b[0m \u001b[0mrange\u001b[0m\u001b[0;34m(\u001b[0m\u001b[0mthreads\u001b[0m\u001b[0;34m)\u001b[0m\u001b[0;34m:\u001b[0m\u001b[0;34m\u001b[0m\u001b[0m\n\u001b[0;32m--> 299\u001b[0;31m           \u001b[0mf\u001b[0m\u001b[0;34m=\u001b[0m\u001b[0mopen\u001b[0m\u001b[0;34m(\u001b[0m\u001b[0;34m'melttemp%d.txt'\u001b[0m\u001b[0;34m%\u001b[0m\u001b[0mj\u001b[0m\u001b[0;34m)\u001b[0m\u001b[0;34m\u001b[0m\u001b[0m\n\u001b[0m\u001b[1;32m    300\u001b[0m           \u001b[0mdat\u001b[0m\u001b[0;34m=\u001b[0m\u001b[0mf\u001b[0m\u001b[0;34m.\u001b[0m\u001b[0mread\u001b[0m\u001b[0;34m(\u001b[0m\u001b[0;34m)\u001b[0m\u001b[0;34m\u001b[0m\u001b[0m\n\u001b[1;32m    301\u001b[0m           \u001b[0mf\u001b[0m\u001b[0;34m.\u001b[0m\u001b[0mclose\u001b[0m\u001b[0;34m(\u001b[0m\u001b[0;34m)\u001b[0m\u001b[0;34m\u001b[0m\u001b[0m\n",
      "\u001b[0;31mIOError\u001b[0m: [Errno 2] No such file or directory: 'melttemp0.txt'"
     ]
    }
   ],
   "source": [
    "\n",
    "ledict = DNATemp.TMeltSelect(DNAlist, interv=(Tmin,Tmax))\n",
    "print 'There are ', len(ledict), 'strands melting in the range', Tmin,'-',Tmax,'C'\n",
    "for key in ledict:print key, ledict[key]"
   ]
  },
  {
   "cell_type": "code",
   "execution_count": 20,
   "metadata": {
    "collapsed": false
   },
   "outputs": [
    {
     "name": "stdout",
     "output_type": "stream",
     "text": [
      "First  10  of  23 candiates which are not complimantary to any of previous sequences (nor to m13):\n",
      "CGCAATCGGTTCACCAGTTATTATCATTATTAAGTTCCAG\n",
      "TGTGATTAGGTGATTAGGAAGTCATATCTATTGTAGGCAC\n",
      "ATAAGAATAACATACTAGGTACACGCATCGGTGATAATAT\n",
      "AAGAATGAGCACCACCAATTAACGTAAGTTGATAACACAC\n",
      "TCTCTTAGATAACTTGGATAGGAGCAACAGCTTAGAATAG\n",
      "TATCTCCAATATGTTCTAGTCCGTAACTGTTCCTACAATC\n",
      "TGGTAGCACATGGTACTATATCTTCTGACTCTAGCAATAA\n",
      "CTGTTGACAAGTTATTAGTCTGTGTGTAAGAAGAACGCAT\n",
      "TTCATATAATTCCAGAGTTCTATCAAGCTAATACAGATCG\n",
      "TCTATACAATACAGAACTAATCACATACCATCTCGGTTAA\n"
     ]
    }
   ],
   "source": [
    "#Save only the strands that don't conflict with sequences (nor compliments)\n",
    "\n",
    "cands =[]\n",
    "for seq in DNAlist:\n",
    "    dummy = True\n",
    "    for cseq in sequences: \n",
    "        if not DNA.word_check(cseq,seq,NedWord): dummy=False;break;\n",
    "    if dummy: cands.append(seq);\n",
    "        \n",
    "print  'First ',N,' of ', len(cands), 'candiates which are not complimantary to any of previous sequences (nor to m13):'\n",
    "for i in range(min(len(cands),10)): print cands[i]"
   ]
  },
  {
   "cell_type": "code",
   "execution_count": 21,
   "metadata": {
    "collapsed": false
   },
   "outputs": [
    {
     "ename": "NameError",
     "evalue": "name 'ledict' is not defined",
     "output_type": "error",
     "traceback": [
      "\u001b[0;31m---------------------------------------------------------------------------\u001b[0m",
      "\u001b[0;31mNameError\u001b[0m                                 Traceback (most recent call last)",
      "\u001b[0;32m<ipython-input-21-9701b5007f8c>\u001b[0m in \u001b[0;36m<module>\u001b[0;34m()\u001b[0m\n\u001b[0;32m----> 1\u001b[0;31m \u001b[0mDNAlistTemp\u001b[0m \u001b[0;34m=\u001b[0m \u001b[0mledict\u001b[0m\u001b[0;34m.\u001b[0m\u001b[0mkeys\u001b[0m\u001b[0;34m(\u001b[0m\u001b[0;34m)\u001b[0m\u001b[0;34m\u001b[0m\u001b[0m\n\u001b[0m\u001b[1;32m      2\u001b[0m \u001b[0mcands\u001b[0m\u001b[0;34m=\u001b[0m\u001b[0;34m[\u001b[0m\u001b[0mDNAlistTemp\u001b[0m\u001b[0;34m[\u001b[0m\u001b[0;36m5\u001b[0m\u001b[0;34m]\u001b[0m\u001b[0;34m,\u001b[0m \u001b[0mDNA\u001b[0m\u001b[0;34m.\u001b[0m\u001b[0mcomplement\u001b[0m\u001b[0;34m(\u001b[0m\u001b[0mDNAlistTemp\u001b[0m\u001b[0;34m[\u001b[0m\u001b[0;36m5\u001b[0m\u001b[0;34m]\u001b[0m\u001b[0;34m)\u001b[0m\u001b[0;34m]\u001b[0m \u001b[0;31m#Make the list and its complements\u001b[0m\u001b[0;34m\u001b[0m\u001b[0m\n\u001b[1;32m      3\u001b[0m \u001b[0mdlist\u001b[0m\u001b[0;34m=\u001b[0m\u001b[0mDNAlistTemp\u001b[0m\u001b[0;34m[\u001b[0m\u001b[0;36m6\u001b[0m\u001b[0;34m:\u001b[0m\u001b[0;34m]\u001b[0m \u001b[0;31m#keeping the rest of the list for comparison\u001b[0m\u001b[0;34m\u001b[0m\u001b[0m\n\u001b[1;32m      4\u001b[0m \u001b[0mt0\u001b[0m\u001b[0;34m=\u001b[0m\u001b[0mtime\u001b[0m\u001b[0;34m(\u001b[0m\u001b[0;34m)\u001b[0m\u001b[0;34m\u001b[0m\u001b[0m\n\u001b[1;32m      5\u001b[0m \u001b[0mtLim\u001b[0m\u001b[0;34m=\u001b[0m\u001b[0;36m10\u001b[0m\u001b[0;34m\u001b[0m\u001b[0m\n",
      "\u001b[0;31mNameError\u001b[0m: name 'ledict' is not defined"
     ]
    }
   ],
   "source": [
    "DNAlistTemp = ledict.keys()\n",
    "cands=[DNAlistTemp[5], DNA.complement(DNAlistTemp[5])] #Make the list and its complements\n",
    "dlist=DNAlistTemp[6:] #keeping the rest of the list for comparison\n",
    "t0=time()\n",
    "tLim=10\n",
    "word=4\n",
    "\n",
    "while len(cands)<30 and time()-t0<tLim:\n",
    "    for i in range(len(dlist)):\n",
    "        dnext=dlist[i]\n",
    "        compl=DNA.complement(dnext, reverse=True)\n",
    "        matchflag=False\n",
    "        for seq in cands:\n",
    "            if DNA.word_check(seq, dnext, word)>-1 and DNA.word_check(seq, compl, word)>-1:\n",
    "                matchflag=True\n",
    "                break\n",
    "                \n",
    "        if not matchflag:\n",
    "            cands+=[dnext,compl]\n",
    "            dlist=dlist[i+1:]\n",
    "            print i\n",
    "            break\n",
    "print 'Time = ', time()-t0\n",
    "print cands         \n",
    "\n",
    "\n",
    "#print DNATemp.TMeltSelect(DNAlist[:30], interv=(20,21))"
   ]
  },
  {
   "cell_type": "code",
   "execution_count": 30,
   "metadata": {
    "collapsed": false
   },
   "outputs": [
    {
     "data": {
      "text/plain": [
       "{'H': -326040.0, 'S': -910.4, 'temp': 37.68}"
      ]
     },
     "execution_count": 30,
     "metadata": {},
     "output_type": "execute_result"
    }
   ],
   "source": [
    "DNATemp.TMelt(pdDict[pdDict.Label=='F11'].Sequence.values[0])"
   ]
  },
  {
   "cell_type": "code",
   "execution_count": 24,
   "metadata": {
    "collapsed": false
   },
   "outputs": [
    {
     "name": "stdout",
     "output_type": "stream",
     "text": [
      "ACAGACATAGT {'H': -316844.0, 'S': -879.05, 'temp': 38.28} <br>\n",
      "\n",
      "TGTCTGTATCA {'H': -318934.0, 'S': -885.32, 'temp': 38.4} <br>\n",
      "\n",
      "AGATGAACAAC {'H': -328548.0, 'S': -915.84, 'temp': 38.45} <br>\n",
      "\n",
      "GTTGTTCATCT {'H': -328548.0, 'S': -915.84, 'temp': 38.45} <br>\n",
      "\n",
      "TTGAACTCCTA {'H': -314754.0, 'S': -873.2, 'temp': 38.03} <br>\n",
      "\n",
      "TAGGAGTTCAA {'H': -314754.0, 'S': -873.2, 'temp': 38.03} <br>\n",
      "\n",
      "TTCTAACGCTA {'H': -326876.0, 'S': -907.06, 'temp': 39.47} <br>\n",
      "\n",
      "TAGCGTTAGAA {'H': -326876.0, 'S': -907.06, 'temp': 39.47} <br>\n",
      "\n",
      "TACCATTGTCT {'H': -315590.0, 'S': -873.62, 'temp': 38.72} <br>\n",
      "\n",
      "AGACAATGGTA {'H': -315590.0, 'S': -873.62, 'temp': 38.72} <br>\n",
      "\n",
      "TATTCTGTCTC {'H': -321860.0, 'S': -904.13, 'temp': 35.57} <br>\n",
      "\n",
      "GAGACAGAATA {'H': -321860.0, 'S': -904.13, 'temp': 35.57} <br>\n",
      "\n",
      "AAGCAATAGTC {'H': -327294.0, 'S': -913.33, 'temp': 38.01} <br>\n",
      "\n",
      "GACTATTGCTT {'H': -327294.0, 'S': -913.33, 'temp': 38.01} <br>\n",
      "\n",
      "ATCTTCGGTAA {'H': -321024.0, 'S': -889.5, 'temp': 39.16} <br>\n",
      "\n",
      "TTACCGAAGAT {'H': -321024.0, 'S': -889.5, 'temp': 39.16} <br>\n",
      "\n",
      "TCTCATAGTTC {'H': -321860.0, 'S': -904.13, 'temp': 35.57} <br>\n",
      "\n",
      "GAACTATGAGA {'H': -321860.0, 'S': -904.13, 'temp': 35.57} <br>\n",
      "\n",
      "TATTCACCTCA {'H': -314754.0, 'S': -872.78, 'temp': 38.16} <br>\n",
      "\n",
      "TGAGGTGAATA {'H': -314754.0, 'S': -872.78, 'temp': 38.16} <br>\n",
      "\n",
      "TCGTCATCTTA {'H': -324368.0, 'S': -901.21, 'temp': 38.84} <br>\n",
      "\n",
      "TAAGATGACGA {'H': -324368.0, 'S': -901.21, 'temp': 38.84} <br>\n",
      "\n",
      "GTTGTTGTGAT {'H': -332310.0, 'S': -923.78, 'temp': 39.64} <br>\n",
      "\n",
      "ATCACAACAAC {'H': -332310.0, 'S': -923.78, 'temp': 39.64} <br>\n",
      "\n",
      "AGTAGTAGTCA {'H': -313918.0, 'S': -875.71, 'temp': 36.44} <br>\n",
      "\n",
      "TGACTACTACT {'H': -313918.0, 'S': -875.71, 'temp': 36.44} <br>\n",
      "\n",
      "TTACAACAGGA {'H': -318516.0, 'S': -881.14, 'temp': 39.27} <br>\n",
      "\n",
      "TCCTGTTGTAA {'H': -318516.0, 'S': -881.14, 'temp': 39.27} <br>\n",
      "\n",
      "CATCACTCTAA {'H': -323114.0, 'S': -906.22, 'temp': 36.15} <br>\n",
      "\n",
      "TTAGAGTGATG {'H': -323114.0, 'S': -906.22, 'temp': 36.15} <br>\n",
      "\n"
     ]
    }
   ],
   "source": [
    "for cand in cands: \n",
    "    print cand[:stickyLength], DNATemp.TMelt(cand[:stickyLength]), '<br>\\n'\n",
    "    #print cand[stickyLength:], DNATemp.TMelt(cand[stickyLength:]),'\\n'"
   ]
  },
  {
   "cell_type": "markdown",
   "metadata": {},
   "source": [
    "# Chosen sequences:"
   ]
  },
  {
   "cell_type": "markdown",
   "metadata": {},
   "source": [
    "## J11 : GTTGTTCATCT {'H': -328548.0, 'S': -915.84, 'temp': 38.45} <br>\n",
    "\n",
    "## K11 : CATCACTCTAA {'H': -323114.0, 'S': -906.22, 'temp': 36.15} <br>"
   ]
  },
  {
   "cell_type": "markdown",
   "metadata": {},
   "source": [
    "## All Candidates"
   ]
  },
  {
   "cell_type": "markdown",
   "metadata": {},
   "source": [
    "\n",
    "ACAGACATAGT {'H': -316844.0, 'S': -879.05, 'temp': 38.28} <br>\n",
    "\n",
    "TGTCTGTATCA {'H': -318934.0, 'S': -885.32, 'temp': 38.4} <br>\n",
    "\n",
    "AGATGAACAAC {'H': -328548.0, 'S': -915.84, 'temp': 38.45} <br>\n",
    "\n",
    "GTTGTTCATCT {'H': -328548.0, 'S': -915.84, 'temp': 38.45} <br>\n",
    "\n",
    "TTGAACTCCTA {'H': -314754.0, 'S': -873.2, 'temp': 38.03} <br>\n",
    "\n",
    "TAGGAGTTCAA {'H': -314754.0, 'S': -873.2, 'temp': 38.03} <br>\n",
    "\n",
    "TTCTAACGCTA {'H': -326876.0, 'S': -907.06, 'temp': 39.47} <br>\n",
    "\n",
    "TAGCGTTAGAA {'H': -326876.0, 'S': -907.06, 'temp': 39.47} <br>\n",
    "\n",
    "TACCATTGTCT {'H': -315590.0, 'S': -873.62, 'temp': 38.72} <br>\n",
    "\n",
    "AGACAATGGTA {'H': -315590.0, 'S': -873.62, 'temp': 38.72} <br>\n",
    "\n",
    "TATTCTGTCTC {'H': -321860.0, 'S': -904.13, 'temp': 35.57} <br>\n",
    "\n",
    "GAGACAGAATA {'H': -321860.0, 'S': -904.13, 'temp': 35.57} <br>\n",
    "\n",
    "AAGCAATAGTC {'H': -327294.0, 'S': -913.33, 'temp': 38.01} <br>\n",
    "\n",
    "GACTATTGCTT {'H': -327294.0, 'S': -913.33, 'temp': 38.01} <br>\n",
    "\n",
    "ATCTTCGGTAA {'H': -321024.0, 'S': -889.5, 'temp': 39.16} <br>\n",
    "\n",
    "TTACCGAAGAT {'H': -321024.0, 'S': -889.5, 'temp': 39.16} <br>\n",
    "\n",
    "TCTCATAGTTC {'H': -321860.0, 'S': -904.13, 'temp': 35.57} <br>\n",
    "\n",
    "GAACTATGAGA {'H': -321860.0, 'S': -904.13, 'temp': 35.57} <br>\n",
    "\n",
    "TATTCACCTCA {'H': -314754.0, 'S': -872.78, 'temp': 38.16} <br>\n",
    "\n",
    "TGAGGTGAATA {'H': -314754.0, 'S': -872.78, 'temp': 38.16} <br>\n",
    "\n",
    "TCGTCATCTTA {'H': -324368.0, 'S': -901.21, 'temp': 38.84} <br>\n",
    "\n",
    "TAAGATGACGA {'H': -324368.0, 'S': -901.21, 'temp': 38.84} <br>\n",
    "\n",
    "GTTGTTGTGAT {'H': -332310.0, 'S': -923.78, 'temp': 39.64} <br>\n",
    "\n",
    "ATCACAACAAC {'H': -332310.0, 'S': -923.78, 'temp': 39.64} <br>\n",
    "\n",
    "AGTAGTAGTCA {'H': -313918.0, 'S': -875.71, 'temp': 36.44} <br>\n",
    "\n",
    "TGACTACTACT {'H': -313918.0, 'S': -875.71, 'temp': 36.44} <br>\n",
    "\n",
    "TTACAACAGGA {'H': -318516.0, 'S': -881.14, 'temp': 39.27} <br>\n",
    "\n",
    "TCCTGTTGTAA {'H': -318516.0, 'S': -881.14, 'temp': 39.27} <br>\n",
    "\n",
    "CATCACTCTAA {'H': -323114.0, 'S': -906.22, 'temp': 36.15} <br>\n",
    "\n",
    "TTAGAGTGATG {'H': -323114.0, 'S': -906.22, 'temp': 36.15} <br>\n",
    " "
   ]
  },
  {
   "cell_type": "code",
   "execution_count": 22,
   "metadata": {
    "collapsed": false
   },
   "outputs": [
    {
     "data": {
      "text/plain": [
       "'#form and save SE dictionary\\n\\ndictionary = {\\'A8\\':A8,                \\'Ap8\\':Ap8,                \\'B8\\':B8,                \\'Bp8\\':Bp8,                \\'C8\\':C8,                \\'Cp8\\':Cp8,                \\'D8\\':D8,                \\'Dp8\\':Dp8,                \\'DE18\\':DE18,                \\'DEp18\\':DEp18,                \\'F11\\':F11,                \\'G11\\':G11,                \\'P11\\':P11,                \\'Q11\\':Q11}\\n\\npdDict = pd.DataFrame({\\'Label\\':dictionary.keys(), \\'Sequence\\':dictionary.values()})\\n#Add length column of each sequence\\npdDict[\\'SE-Length\\'] = [len(s) for s in pdDict[\\'Sequence\\'].values]\\ndictionaryFileName = \\'SEdictionary\\' +date.today().strftime(\"%Y-%m-%d\")+\\'.csv\\'\\n\\npdDict = pdDict.sort(\\'Label\\')\\npdDict.to_csv(dictionaryFileName)\\n'"
      ]
     },
     "execution_count": 22,
     "metadata": {},
     "output_type": "execute_result"
    }
   ],
   "source": [
    "'''\n",
    "# List existing Sticky Ends to verify mismatch!\n",
    "\n",
    "#Previous Sequences not to be conflicted:\n",
    "#The Sequence for the SLegs ticky End:\n",
    "\n",
    "A = 'GTAGATTG' #As generated by SE8b\n",
    "B = 'GTTATGAG' #As generated by SE8b\n",
    "C = 'GTATTGAG' #As generated by SE8b\n",
    "stemLegs  = 'GCTCTACTAT' #As generated by stem10b\n",
    "stemArms =('AGGTATGA','CGTATTTA') #As generated by corinna back at the days.\n",
    "stemSD = 'GGATAGTAGA'\n",
    "CS = 'CGTAATGAAAGGCAGGGCTCTCTGGATTGACTGTGCGAAGGGTAGCGAT' #adopted from Lunta/Lang\n",
    "\n",
    "with open('m13seq.txt','r') as f: m13=f.read().upper()\n",
    "\n",
    "sequences = [A,B,C, stemArms[0],stemArms[1],stemLegs,stemSD,m13]\n",
    "compseq = []\n",
    "for seq in sequences: compseq.append(DNA.complement(seq, reverse=True));\n",
    "for cseq in compseq: sequences.append(cseq)\n",
    "\n",
    "'''\n",
    "\n",
    "'''\n",
    "#The dictionary\n",
    "\n",
    "#The Sequence for the Sticky End:\n",
    "A8 = 'GTAGATTG' #As generated by SE8b\n",
    "B8 = 'GTTATGAG' #As generated by SE8b\n",
    "C8 = 'GTATTGAG' #As generated by SE8b\n",
    "\n",
    "D8 = 'ACCATCAT' #generaterd by strandDisplacement\n",
    "E10 = 'CGCCGTGTAA' #generaterd by strandDisplacement\n",
    "\n",
    "F11 = 'GATGGATTAGG' #Adpoted from Kun-Ta\n",
    "P11 = 'GTATTCGAGTT' #Adpoted from Kun-Ta\n",
    "\n",
    "G11 = DNA.complement(F11, reverse=True) \n",
    "Q11 = DNA.complement(P11, reverse=True) \n",
    "\n",
    "DE18 = D8+E10\n",
    "\n",
    "Ap8 = DNA.complement(A8,reverse=True)\n",
    "Bp8 = DNA.complement(B8,reverse=True)\n",
    "Cp8 = DNA.complement(C8,reverse=True)\n",
    "\n",
    "Dp8 = DNA.complement(D8,reverse=True)\n",
    "DEp18 = DNA.complement(DE18,reverse=True)\n",
    "\n",
    "stemLegs  = 'GCTCTACTAT' #As generated by stem10b\n",
    "stemArms =('AGGTATGA','CGTATTTA') #As generated by corinna back at the days.\n",
    "stemSD = 'GGATAGTAGA'\n",
    "CS = 'CGTAATGAAAGGCAGGGCTCTCTGGATTGACTGTGCGAAGGGTAGCGAT' #adopted from Lunta/Lang\n",
    "\n",
    "with open('m13seq.txt','r') as f: m13=f.read().upper()\n",
    "\n",
    "\n",
    "stemsHands =(\"\",\"\")#('AGGTATGA','CGTATTTA') #Generated by stem8\n",
    "\n",
    "bulge = 'T'*22 ##Add 22Ts between staple and to extend SE.(~5nm) 1nt length ~0.676nm. Persistence length 2.2nm R=(2.2*0.676*22)^0.5 \n",
    "\n",
    "nicksShiftUp = 5\n",
    "nicksShiftDown = 0\n",
    "\n",
    "\n",
    "\n",
    "stemsLegs = stemsHands#('GGGGGGGGGG','GGGGGGG')#'GCTCTACTAT' generated by stem10\n",
    "\n",
    "stemsMiddleHand = stemsHands#('GGGGGGGGGG','GGGGGGGGG') #stemHands\n",
    "\n",
    "\n",
    "'''\n",
    "\n",
    "'''#form and save SE dictionary\n",
    "\n",
    "dictionary = {'A8':A8,\\\n",
    "                'Ap8':Ap8,\\\n",
    "                'B8':B8,\\\n",
    "                'Bp8':Bp8,\\\n",
    "                'C8':C8,\\\n",
    "                'Cp8':Cp8,\\\n",
    "                'D8':D8,\\\n",
    "                'Dp8':Dp8,\\\n",
    "                'DE18':DE18,\\\n",
    "                'DEp18':DEp18,\\\n",
    "                'F11':F11,\\\n",
    "                'G11':G11,\\\n",
    "                'P11':P11,\\\n",
    "                'Q11':Q11}\n",
    "\n",
    "pdDict = pd.DataFrame({'Label':dictionary.keys(), 'Sequence':dictionary.values()})\n",
    "#Add length column of each sequence\n",
    "pdDict['SE-Length'] = [len(s) for s in pdDict['Sequence'].values]\n",
    "dictionaryFileName = 'SEdictionary' +date.today().strftime(\"%Y-%m-%d\")+'.csv'\n",
    "\n",
    "pdDict = pdDict.sort('Label')\n",
    "pdDict.to_csv(dictionaryFileName)\n",
    "'''"
   ]
  },
  {
   "cell_type": "markdown",
   "metadata": {},
   "source": [
    "##The chosen:\n",
    "\n",
    "D: ACCATCAT {'H': -214852.0, 'S': -595.65, 'temp': 22.59} <br>\n",
    "E: CGCCGTGTAA {'H': -321860.0, 'S': -871.11, 'temp': 46.33} \n",
    "\n",
    "F: AAGCAAGA {'H': -222794.0, 'S': -616.55, 'temp': 24.97} <br>\n",
    "G: GCGATTCAGC {'H': -325204.0, 'S': -887.41, 'temp': 44.5} \n",
    "\n",
    "H: TTCGTTCT {'H': -227392.0, 'S': -632.02, 'temp': 24.96} <br>\n",
    "I: CGCTAAGTCG {'H': -326458.0, 'S': -896.61, 'temp': 42.88} "
   ]
  },
  {
   "cell_type": "markdown",
   "metadata": {},
   "source": [
    "##All Candidates:\n",
    "\n",
    "ACAGACATAGT {'H': -316844.0, 'S': -879.05, 'temp': 38.28} <br>\n",
    "\n",
    "TGTCTGTATCA {'H': -318934.0, 'S': -885.32, 'temp': 38.4} <br>\n",
    "\n",
    "AGATGAACAAC {'H': -328548.0, 'S': -915.84, 'temp': 38.45} <br>\n",
    "\n",
    "GTTGTTCATCT {'H': -328548.0, 'S': -915.84, 'temp': 38.45} <br>\n",
    "\n",
    "TTGAACTCCTA {'H': -314754.0, 'S': -873.2, 'temp': 38.03} <br>\n",
    "\n",
    "TAGGAGTTCAA {'H': -314754.0, 'S': -873.2, 'temp': 38.03} <br>\n",
    "\n",
    "TTCTAACGCTA {'H': -326876.0, 'S': -907.06, 'temp': 39.47} <br>\n",
    "\n",
    "TAGCGTTAGAA {'H': -326876.0, 'S': -907.06, 'temp': 39.47} <br>\n",
    "\n",
    "TACCATTGTCT {'H': -315590.0, 'S': -873.62, 'temp': 38.72} <br>\n",
    "\n",
    "AGACAATGGTA {'H': -315590.0, 'S': -873.62, 'temp': 38.72} <br>\n",
    "\n",
    "TATTCTGTCTC {'H': -321860.0, 'S': -904.13, 'temp': 35.57} <br>\n",
    "\n",
    "GAGACAGAATA {'H': -321860.0, 'S': -904.13, 'temp': 35.57} <br>\n",
    "\n",
    "AAGCAATAGTC {'H': -327294.0, 'S': -913.33, 'temp': 38.01} <br>\n",
    "\n",
    "GACTATTGCTT {'H': -327294.0, 'S': -913.33, 'temp': 38.01} <br>\n",
    "\n",
    "ATCTTCGGTAA {'H': -321024.0, 'S': -889.5, 'temp': 39.16} <br>\n",
    "\n",
    "TTACCGAAGAT {'H': -321024.0, 'S': -889.5, 'temp': 39.16} <br>\n",
    "\n",
    "TCTCATAGTTC {'H': -321860.0, 'S': -904.13, 'temp': 35.57} <br>\n",
    "\n",
    "GAACTATGAGA {'H': -321860.0, 'S': -904.13, 'temp': 35.57} <br>\n",
    "\n",
    "TATTCACCTCA {'H': -314754.0, 'S': -872.78, 'temp': 38.16} <br>\n",
    "\n",
    "TGAGGTGAATA {'H': -314754.0, 'S': -872.78, 'temp': 38.16} <br>\n",
    "\n",
    "TCGTCATCTTA {'H': -324368.0, 'S': -901.21, 'temp': 38.84} <br>\n",
    "\n",
    "TAAGATGACGA {'H': -324368.0, 'S': -901.21, 'temp': 38.84} <br>\n",
    "\n",
    "GTTGTTGTGAT {'H': -332310.0, 'S': -923.78, 'temp': 39.64} <br>\n",
    "\n",
    "ATCACAACAAC {'H': -332310.0, 'S': -923.78, 'temp': 39.64} <br>\n",
    "\n",
    "AGTAGTAGTCA {'H': -313918.0, 'S': -875.71, 'temp': 36.44} <br>\n",
    "\n",
    "TGACTACTACT {'H': -313918.0, 'S': -875.71, 'temp': 36.44} <br>\n",
    "\n",
    "TTACAACAGGA {'H': -318516.0, 'S': -881.14, 'temp': 39.27} <br>\n",
    "\n",
    "TCCTGTTGTAA {'H': -318516.0, 'S': -881.14, 'temp': 39.27} <br>\n",
    "\n",
    "CATCACTCTAA {'H': -323114.0, 'S': -906.22, 'temp': 36.15} <br>\n",
    "\n",
    "TTAGAGTGATG {'H': -323114.0, 'S': -906.22, 'temp': 36.15} <br>\n"
   ]
  },
  {
   "cell_type": "code",
   "execution_count": 35,
   "metadata": {
    "collapsed": false
   },
   "outputs": [
    {
     "name": "stdout",
     "output_type": "stream",
     "text": [
      "Colloid-Ori Melting Tc =  31.2 \\pm  -0.07 C\n",
      "Orig-Orig Melting To =  22.5 \\pm  -0.13 C\n",
      "\\Delta T =  2.3\n"
     ]
    }
   ],
   "source": [
    "import numpy as np\n",
    "h = -230.E3 #[J/mol]\n",
    "s=-734. #[J/molK]\n",
    "c=1. #[1/u^3]\n",
    "r = 8.\n",
    "no=4.\n",
    "nc=8.\n",
    "nu = (1E-3)**3 #u^3\n",
    "dt=h*r**2/s**3*(np.log(nu*c/4))**2*(1/no-1/nc)\n",
    "\n",
    "tc = h/(s+r*np.log(nu*c/4)/nc)\n",
    "to = h/(s+r*np.log(nu*c/4)/no)\n",
    "ddtc=-r*dt*np.log(nu*c/2)/nc/s\n",
    "ddto=-r*dt*np.log(nu*c/2)/no/s\n",
    "print 'Colloid-Ori Melting Tc = ', round(tc-273,1), '\\pm ', round(ddtc,2), 'C'\n",
    "print 'Orig-Orig Melting To = ',  round(to-273,1), '\\pm ', round(ddto,2), 'C'\n",
    "print '\\Delta T = ', round(dt,1)"
   ]
  },
  {
   "cell_type": "code",
   "execution_count": 33,
   "metadata": {
    "collapsed": false
   },
   "outputs": [
    {
     "name": "stdout",
     "output_type": "stream",
     "text": [
      "Colloid-Ori Melting Tc =  68.4 \\pm  -0.11 C\n",
      "Orig-Orig Melting To =  57.3 \\pm  -0.23 C\n",
      "Colloids-Colloids Melting To =  77.7 \\pm  -0.02 C\n",
      "\\Delta T =  3.4\n"
     ]
    }
   ],
   "source": [
    "import numpy as np\n",
    "#GACACTTA {'H': -225720.0, 'S': -639.12, 'temp': 20.03}\n",
    "h = -225.720E3 #[J/mol]\n",
    "s=-639.12#[J/molK]\n",
    "c=1. #[1/u^3]\n",
    "r = 8.\n",
    "no=4.\n",
    "nc=8.\n",
    "ncc = 40.\n",
    "\n",
    "nu = (1E-3)**3 #u^3\n",
    "dt=h*r**2/s**3*(np.log(nu*c/4))**2*(1/no-1/nc)\n",
    "\n",
    "tc = h/(s+r*np.log(nu*c/4)/nc)\n",
    "to = h/(s+r*np.log(nu*c/4)/no)\n",
    "tcc = h/(s+r*np.log(nu*c/4)/ncc)\n",
    "\n",
    "ddtc=-r*dt*np.log(nu*c/2)/nc/s\n",
    "ddto=-r*dt*np.log(nu*c/2)/no/s\n",
    "ddtcc = -r*dt*np.log(nu*c/2)/ncc/s\n",
    "\n",
    "print 'Colloid-Ori Melting Tc = ', round(tc-273,1), '\\pm ', round(ddtc,2), 'C'\n",
    "print 'Orig-Orig Melting To = ',  round(to-273,1), '\\pm ', round(ddto,2), 'C'\n",
    "print 'Colloids-Colloids Melting To = ',  round(tcc-273,1), '\\pm ', round(ddtcc,2), 'C'\n",
    "print '\\Delta T = ', round(dt,1)"
   ]
  },
  {
   "cell_type": "code",
   "execution_count": null,
   "metadata": {
    "collapsed": true
   },
   "outputs": [],
   "source": []
  }
 ],
 "metadata": {
  "anaconda-cloud": {},
  "kernelspec": {
   "display_name": "Python [default]",
   "language": "python",
   "name": "python2"
  },
  "language_info": {
   "codemirror_mode": {
    "name": "ipython",
    "version": 2
   },
   "file_extension": ".py",
   "mimetype": "text/x-python",
   "name": "python",
   "nbconvert_exporter": "python",
   "pygments_lexer": "ipython2",
   "version": "2.7.12"
  }
 },
 "nbformat": 4,
 "nbformat_minor": 0
}
